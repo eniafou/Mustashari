{
  "cells": [
    {
      "cell_type": "code",
      "execution_count": 1,
      "metadata": {
        "colab": {
          "base_uri": "https://localhost:8080/"
        },
        "id": "H5acJz3M82gE",
        "outputId": "c1422a8c-1e57-4a65-8ab7-20f2ef1a0316"
      },
      "outputs": [
        {
          "name": "stdout",
          "output_type": "stream",
          "text": [
            "Looking in indexes: https://pypi.org/simple, https://us-python.pkg.dev/colab-wheels/public/simple/\n",
            "Collecting PyPDF2\n",
            "  Downloading pypdf2-3.0.1-py3-none-any.whl (232 kB)\n",
            "\u001b[2K     \u001b[90m━━━━━━━━━━━━━━━━━━━━━━━━━━━━━━━━━━━━━━━\u001b[0m \u001b[32m232.6/232.6 kB\u001b[0m \u001b[31m4.1 MB/s\u001b[0m eta \u001b[36m0:00:00\u001b[0m\n",
            "\u001b[?25hInstalling collected packages: PyPDF2\n",
            "Successfully installed PyPDF2-3.0.1\n"
          ]
        }
      ],
      "source": [
        "# you don't need to run this if you use 'pip install -r requirements'\n",
        "\n",
        "# !pip install PyPDF2\n",
        "# !pip install -U sentence-transformers"
      ]
    },
    {
      "cell_type": "code",
      "execution_count": 13,
      "metadata": {
        "colab": {
          "base_uri": "https://localhost:8080/"
        },
        "id": "M7q7UxCD8aCn",
        "outputId": "5c6eb04b-14ba-4754-8886-ce39c5aafe22"
      },
      "outputs": [
        {
          "data": {
            "text/plain": [
              "array([[ 2.7431576e-03, -7.5996220e-05,  8.0998801e-03, ...,\n",
              "         2.0494135e-02,  4.2653579e-02, -5.1532317e-02],\n",
              "       [ 4.0148556e-02,  8.5219346e-02, -2.3556788e-02, ...,\n",
              "         4.8800662e-02,  1.0576949e-01,  1.6949885e-02],\n",
              "       [-3.3376403e-02,  7.6225527e-02, -1.0415831e-01, ...,\n",
              "         7.2675265e-02,  3.4845635e-02, -4.5171369e-02],\n",
              "       ...,\n",
              "       [-1.8568867e-03,  1.5074079e-01, -8.0259219e-03, ...,\n",
              "         6.0782880e-02, -6.6138366e-03,  2.3003342e-02],\n",
              "       [ 1.1578885e-02,  9.1401875e-02,  2.9284423e-02, ...,\n",
              "         4.9056135e-02,  1.2106831e-02, -4.5537092e-02],\n",
              "       [ 5.1351376e-02, -2.5387264e-03, -1.5929338e-02, ...,\n",
              "         2.8178280e-02, -2.5538903e-02, -2.1590276e-02]], dtype=float32)"
            ]
          },
          "execution_count": 13,
          "metadata": {},
          "output_type": "execute_result"
        }
      ],
      "source": [
        "import PyPDF2\n",
        "\n",
        "pdf_file = open('../ressources/loi_english.pdf', 'rb')\n",
        "pdf_reader = PyPDF2.PdfReader(pdf_file)\n",
        "\n",
        "text_content = ''\n",
        "for page in range(len(pdf_reader.pages)):\n",
        "    text_content += pdf_reader.pages[page].extract_text()\n",
        "\n",
        "# Split the text content into individual sentences\n",
        "sentences = text_content.split('.')\n",
        "\n",
        "# Load the sentence transformer model\n",
        "from sentence_transformers import SentenceTransformer\n",
        "model = SentenceTransformer('sentence-transformers/all-MiniLM-L12-v2')\n",
        "\n",
        "# Encode the input sentence and each extracted sentence\n",
        "sentence_embeddings = model.encode(sentences)\n",
        "sentence_embeddings"
      ]
    },
    {
      "cell_type": "code",
      "execution_count": 14,
      "metadata": {
        "id": "PRSXow9z_OyF"
      },
      "outputs": [],
      "source": [
        "import numpy as np\n",
        "\n",
        "np.savetxt('../ressources/matrix_MINILM.csv', sentence_embeddings, delimiter=',')"
      ]
    },
    {
      "cell_type": "code",
      "execution_count": 8,
      "metadata": {
        "colab": {
          "base_uri": "https://localhost:8080/"
        },
        "id": "0l-JXiZe85-c",
        "outputId": "9b3f2a9b-1385-462e-cd90-2172449ffdc2"
      },
      "outputs": [
        {
          "name": "stdout",
          "output_type": "stream",
          "text": [
            "Top 5 most similar sentences:\n",
            "\n",
            "If  the  false  witness  has  received  money,  any  reward  or  promises,  the  \n",
            "prison  sentence  can  be  increased  to  ten  years  and  the  fine  to  4,000  dirhams\n",
            "Section  540Section  539Section  537\n",
            "Section  538\n",
            "SECTION  II  FRAUD  AND  ISSUANCE  OF  CHECKS\n",
            "WITHOUT  PROVISIONS\n",
            "(Items  540  to  546)Anyone  who  by  means  of  the  threat,  written  or  verbal,  of  defamatory  revelations  \n",
            "or  imputations,  extorts  either  the  delivery  of  funds  or  securities,  or  the  signature  or  \n",
            "delivery  of  the  writings  provided  for  in  the  preceding  article,  is  guilty  of  blackmail  and  \n",
            "punished  with  the  imprisonment  of  one  to  five  years  and  a  fine  of  200,238  to  2,000  \n",
            "dirhams\n",
            "Anyone  who  is  guilty  of  false  testimony  in  criminal  matters,  either  against  \n",
            "the  accused  or  in  his  favour,  is  punished  by  imprisonment  from  five  to  ten  years\n"
          ]
        }
      ],
      "source": [
        "input_sentence = 'what if i witness a crime and i was blackmailed'\n",
        "input_embedding = model.encode([input_sentence])\n",
        "\n",
        "\n",
        "# Calculate the cosine similarity between the input sentence embedding and each extracted sentence embedding\n",
        "from sklearn.metrics.pairwise import cosine_similarity\n",
        "similarities = cosine_similarity(input_embedding, sentence_embeddings)[0]\n",
        "\n",
        "# Sort the sentences based on their similarity to the input sentence\n",
        "sorted_sentences = [s for _, s in sorted(zip(similarities, sentences), reverse=True)]\n",
        "\n",
        "# Print the top 5 most similar sentences\n",
        "print('Top 3 most similar sentences:')\n",
        "for i in range(3):\n",
        "    print(sorted_sentences[i])"
      ]
    }
  ],
  "metadata": {
    "colab": {
      "provenance": []
    },
    "kernelspec": {
      "display_name": "Python 3",
      "name": "python3"
    },
    "language_info": {
      "name": "python"
    }
  },
  "nbformat": 4,
  "nbformat_minor": 0
}

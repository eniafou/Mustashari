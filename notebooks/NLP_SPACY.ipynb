{
  "cells": [
    {
      "cell_type": "code",
      "execution_count": 1,
      "metadata": {
        "colab": {
          "base_uri": "https://localhost:8080/"
        },
        "id": "xI2QwqRPRmHz",
        "outputId": "c1c832d2-c396-4d4b-f571-6690f8045118"
      },
      "outputs": [
        {
          "name": "stdout",
          "output_type": "stream",
          "text": [
            "Looking in indexes: https://pypi.org/simple, https://us-python.pkg.dev/colab-wheels/public/simple/\n",
            "Collecting PyPDF2\n",
            "  Downloading pypdf2-3.0.1-py3-none-any.whl (232 kB)\n",
            "\u001b[2K     \u001b[90m━━━━━━━━━━━━━━━━━━━━━━━━━━━━━━━━━━━━━━━\u001b[0m \u001b[32m232.6/232.6 kB\u001b[0m \u001b[31m5.8 MB/s\u001b[0m eta \u001b[36m0:00:00\u001b[0m\n",
            "\u001b[?25hInstalling collected packages: PyPDF2\n",
            "Successfully installed PyPDF2-3.0.1\n"
          ]
        }
      ],
      "source": [
        "# you don't need to run this if you use 'pip install -r requirements'\n",
        "\n",
        "# !pip install PyPDF2\n",
        "# !python -m spacy download fr_core_news_sm\n",
        "# !pip install pikepdf\n",
        "# !pip install PyMuPDF\n",
        "# !pip install langchain\n",
        "# !pip install Unstructured"
      ]
    },
    {
      "cell_type": "code",
      "execution_count": 5,
      "metadata": {
        "id": "sVRr65tARffb"
      },
      "outputs": [],
      "source": [
        "import spacy\n",
        "from sklearn.metrics.pairwise import cosine_similarity\n",
        "import PyPDF2\n",
        "import pikepdf\n",
        "import fitz"
      ]
    },
    {
      "cell_type": "code",
      "execution_count": 15,
      "metadata": {
        "id": "m10UYACeRuKk"
      },
      "outputs": [],
      "source": [
        "nlp = spacy.load('fr_core_news_sm')\n",
        "\n",
        "# Define the maximum number of tokens for the output sentences\n",
        "max_tokens = 10"
      ]
    },
    {
      "cell_type": "code",
      "execution_count": 16,
      "metadata": {
        "id": "iVkY0qTtR4uH"
      },
      "outputs": [],
      "source": [
        "# Function to extract text from a PDF file\n",
        "def extract_text_from_pdf(file_path):\n",
        "    doc = fitz.open(file_path)\n",
        "    text = ''\n",
        "    for i in range(doc.page_count):\n",
        "      text += doc.get_page_text(i)\n",
        "    return text "
      ]
    },
    {
      "cell_type": "code",
      "execution_count": 17,
      "metadata": {
        "id": "Lm0WAvlkSBVL"
      },
      "outputs": [],
      "source": [
        "text = extract_text_from_pdf('../ressources/loi_english.pdf')"
      ]
    },
    {
      "cell_type": "code",
      "execution_count": 18,
      "metadata": {
        "id": "j5fsASSWD5o9"
      },
      "outputs": [],
      "source": [
        "pdf_file = open('../ressources/loi_english.pdf', 'rb')\n",
        "pdf_reader = PyPDF2.PdfReader(pdf_file)\n",
        "\n",
        "text_content = ''\n",
        "for page in range(len(pdf_reader.pages)):\n",
        "    text_content += pdf_reader.pages[page].extract_text()\n",
        "\n",
        "# Split the text content into individual sentences\n",
        "sentences = text_content.split('.')"
      ]
    },
    {
      "cell_type": "code",
      "execution_count": 19,
      "metadata": {
        "id": "D6_qa16CT1Kr"
      },
      "outputs": [],
      "source": [
        "input_sentence = \"what if i witness a crime and i was blackmailed\""
      ]
    },
    {
      "cell_type": "code",
      "execution_count": 23,
      "metadata": {
        "colab": {
          "base_uri": "https://localhost:8080/"
        },
        "id": "jO4zgTs7UDNm",
        "outputId": "e82cd297-904b-4d40-cd4b-671db591f4b5"
      },
      "outputs": [
        {
          "name": "stdout",
          "output_type": "stream",
          "text": [
            "['Section ', 'Section ', 'Section ', 'Section ', 'Section ', 'Section ', 'Section ', 'Section ', 'Section ', 'Section ', 'Section ', 'Section ', 'Section ', 'Section ', 'Section ', 'Section ', 'Section ', 'Section ', 'Section ', 'Section ', 'Section ', 'Section ', 'Section ', 'Section ', 'Section ', 'Section ', 'Section ', 'Section ', 'Section ', 'Section ', 'Section ', 'Section ', 'Section ', 'Section ', 'Section ', 'Section ', 'Section ', 'Section ', 'Section ', 'Section ', 'Section ', 'Section ', 'Section ', 'Section ', 'Section ', 'Section ', 'Section ', 'Section ', 'Section ', 'Section ', 'Section ', 'Section ', 'Section ', 'Section ', 'Section ', 'Section ', 'Section ', 'Section ', 'Section ', 'Section ', 'Section ', 'Section ', 'Section ', 'Section ', 'Section ', 'Section ', 'Section ', 'Section ', 'Section ', 'Section ', 'Section ', 'Section ', 'Section ', 'Section ', 'Section ', 'Section ', 'Section ', 'Section ', 'Section ', 'Section ', 'Section ', 'Section ', 'Section ', 'Section ', 'Section ', 'Section ', 'Section ', 'Section ', 'Section ', 'Section ', 'Section ', 'Section ', 'Section ', 'Section ', 'Section ', 'Section ', 'Section ', 'Section ', 'Section ', 'Section ', 'Section ', 'Section ', 'Section ', 'Section ', 'Section ', 'Section ', 'Section ', 'Section ', 'Section ', 'Section ', 'Section ', 'Section ', 'Section ', 'Section ', 'Section ', 'Section ', 'Section ', 'Section ', 'Section ', 'Section ', 'Section ', 'Section ', 'Section ', 'Section ', 'Section ', 'Section ', 'Section ', 'Section ', 'Section ', 'Section ', 'Section ', 'Section ', 'Section ', 'Section ', 'Section ', 'Section ', 'Section ', 'Section ', 'Section ', 'Section ', 'Section ', 'Section ', 'Section ', 'Section ', 'Section ', 'Section ', 'Section ', 'Section ', 'Section ', 'Section ', 'Section ', 'Section ', 'Section ', 'Section ', 'Section ', 'Section ', 'Section ', 'Section ', 'Section ', 'Section ', 'Section ', 'Section ', 'Section ', 'Section ', 'Section ', 'Section ', 'Section ', 'Section ', 'Section ', 'Section ', 'Section ', 'Section ', 'Section ', 'Section ', 'Section ', 'Section ', 'Section ', 'Section ', 'Section ', 'Section ', 'Section ', 'Section ', 'Section ', 'Section ', 'Section ', 'Section ', 'Section ', 'Section ', 'Section ', 'Section ', 'Section ', 'Section ', 'Section ', 'Section ', 'Section ', 'Section ', 'Section ', 'Section ', 'Section ', 'Section ', 'Section ', 'Section ', 'Section ', 'Section ', 'Section ', 'Section ', 'Section ', 'Section ', 'Section ', 'Section ', 'Section ', 'Section ', 'Section ', 'Section ', 'Section ', 'Section ', 'Section ', 'Section ', 'Section ', 'Section ', 'Section ', 'Section ', 'Section ']\n"
          ]
        }
      ],
      "source": [
        "import PyPDF2\n",
        "\n",
        "\n",
        "with open('../ressources/loi_english.pdf', 'rb') as pdf_file:\n",
        "   \n",
        "    pdf_reader = PyPDF2.PdfReader(pdf_file)\n",
        "   \n",
        "   \n",
        "    articles = []\n",
        "   \n",
        "   \n",
        "    num_pages = len(pdf_reader.pages)\n",
        "   \n",
        "   \n",
        "    for page in range(5,num_pages):\n",
        "       \n",
        "        page_obj = pdf_reader.pages[page]\n",
        "        page_text = page_obj.extract_text()\n",
        "       \n",
        "       \n",
        "        article_list = page_text.split('Section ')\n",
        "        article_list.pop(0)  \n",
        "       \n",
        "       \n",
        "        for article in article_list:\n",
        "            articles.append('Section ' + article)\n",
        "           \n",
        "   \n",
        "    print(articles)"
      ]
    },
    {
      "cell_type": "code",
      "execution_count": 28,
      "metadata": {
        "id": "xObKPkb2J5Sr"
      },
      "outputs": [],
      "source": [
        "from langchain.text_splitter import RecursiveCharacterTextSplitter\n",
        "from langchain.document_loaders import UnstructuredPDFLoader, OnlinePDFLoader"
      ]
    },
    {
      "cell_type": "code",
      "execution_count": 31,
      "metadata": {
        "id": "Ac_5IxWwKWDU"
      },
      "outputs": [],
      "source": [
        "loader = UnstructuredPDFLoader('../ressources/loi_english.pdf')"
      ]
    },
    {
      "cell_type": "code",
      "execution_count": 32,
      "metadata": {
        "colab": {
          "base_uri": "https://localhost:8080/"
        },
        "id": "gWM5XcWQKWLm",
        "outputId": "aade5462-2341-456c-fd29-79169be7630a"
      },
      "outputs": [
        {
          "name": "stderr",
          "output_type": "stream",
          "text": [
            "[nltk_data] Downloading package punkt to /root/nltk_data...\n",
            "[nltk_data]   Unzipping tokenizers/punkt.zip.\n",
            "[nltk_data] Downloading package averaged_perceptron_tagger to\n",
            "[nltk_data]     /root/nltk_data...\n",
            "[nltk_data]   Unzipping taggers/averaged_perceptron_tagger.zip.\n",
            "WARNING:unstructured:detectron2 is not installed. Cannot use the hi_res partitioning strategy. Falling back to partitioning with the fast strategy.\n"
          ]
        }
      ],
      "source": [
        "data = loader.load()"
      ]
    },
    {
      "cell_type": "code",
      "execution_count": 53,
      "metadata": {
        "id": "HKmcepQiIzXJ"
      },
      "outputs": [],
      "source": [
        "text_splitter = RecursiveCharacterTextSplitter(chunk_size = 700, chunk_overlap = 0)\n",
        "\n",
        "texts = text_splitter.split_documents(data)"
      ]
    },
    {
      "cell_type": "code",
      "execution_count": 54,
      "metadata": {
        "colab": {
          "base_uri": "https://localhost:8080/",
          "height": 105
        },
        "id": "U0VSctO6WUf4",
        "outputId": "a54be69c-cfc8-4284-b112-a8573e959bc3"
      },
      "outputs": [
        {
          "data": {
            "application/vnd.google.colaboratory.intrinsic+json": {
              "type": "string"
            },
            "text/plain": [
              "'\\nThe courts and tribunals will continue to observe the laws and regulations\\n\\nparticulars governing all matters not regulated by the code.\\n\\nHowever, these courts will only be able to pronounce penalties falling within the categories provided for by him and according to the distinctions enacted in his article 5 below.\\n\\nSection 4\\n\\nThe provisions of this code apply even to matters governed by specific laws and regulations in all that has not been expressly provided for in these laws.\\n\\nSection 5'"
            ]
          },
          "execution_count": 54,
          "metadata": {},
          "output_type": "execute_result"
        }
      ],
      "source": [
        "texts[0].page_content[40:]"
      ]
    },
    {
      "cell_type": "code",
      "execution_count": 55,
      "metadata": {
        "id": "S83XdXM_LlcH"
      },
      "outputs": [],
      "source": [
        "articles2 = [texts[i].page_content[40:] for i in range(len(texts))]"
      ]
    },
    {
      "cell_type": "code",
      "execution_count": 56,
      "metadata": {
        "id": "Q6z3Xe5MIluF"
      },
      "outputs": [],
      "source": [
        "import pickle\n",
        "\n",
        "with open(\"../ressources/paragraphs_LEGAL_ARTICLES2.pkl\", \"wb\") as f:\n",
        "    pickle.dump(articles2, f)"
      ]
    },
    {
      "cell_type": "code",
      "execution_count": 57,
      "metadata": {
        "id": "twQCjNR1Wbyv"
      },
      "outputs": [],
      "source": [
        "from sklearn.metrics.pairwise import cosine_similarity\n",
        "import numpy as np\n",
        "from sklearn.feature_extraction.text import TfidfVectorizer\n",
        "from scipy.sparse import csr_matrix, save_npz\n",
        "\n",
        "def find_similar_paragraphs(paragraphs, input_sentence, max_tokens=100):\n",
        "    # Tokenize the input sentence\n",
        "    input_tokens = input_sentence.split()[:max_tokens]\n",
        "    \n",
        "    # Compute the TF-IDF matrix for the paragraphs\n",
        "    vectorizer = TfidfVectorizer()\n",
        "    tfidf_matrix = vectorizer.fit_transform(paragraphs)\n",
        "    # print(type(tfidf_matrix))\n",
        "    save_npz(\"../ressources/matrix_NLP_SPACY2.npz\", tfidf_matrix)\n",
        "    \n",
        "    # Compute the cosine similarity between the input sentence and each paragraph\n",
        "    input_tfidf = vectorizer.transform([' '.join(input_tokens)])\n",
        "    similarities = cosine_similarity(input_tfidf, tfidf_matrix)\n",
        "    \n",
        "    # Find the indices of the two most similar paragraphs\n",
        "    indices = np.argsort(similarities, axis=1)[:, -2:]\n",
        "    \n",
        "    # Return the two most similar paragraphs\n",
        "    return [paragraphs[i] for i in indices[0]]\n"
      ]
    },
    {
      "cell_type": "code",
      "execution_count": 58,
      "metadata": {
        "colab": {
          "base_uri": "https://localhost:8080/"
        },
        "id": "VDrRedSuWo50",
        "outputId": "e24f4b33-ef5a-4eea-c005-21144b634f14"
      },
      "outputs": [
        {
          "name": "stdout",
          "output_type": "stream",
          "text": [
            "[' to one year and a fine of 250 to 5,000 dirhams, whoever, with the intention of undermining their honor, their delicacy or the respect due to their authority, insults in the exercise of their functions or on the occasion of this exercise, a magistrate, a public official, a commander or agent of the public force, either by words, gestures, threats, sending or delivery of any object, either in writing or drawing not made public.\\n\\nWhen the contempt of one or more magistrates or juror assessors is committed at the hearing of a court or tribunal, the imprisonment is from one to two years.', 'abandon their born or unborn child;\\n\\n2° Brings or tries to bring his intermediary to make collect or\\n\\nadopt a born or unborn child.\\n\\nSection 467\\n\\nIs punishable by imprisonment of one to six months and a fine of 200,186\\n\\nto 5,000 dirhams any person who: 1° Causes\\n\\nor attempts to have signed, by the future parents or one of them, an act\\n\\nunder which they undertake to give up an unborn child;\\n\\n2° Holds such an instrument, or makes use of it or attempts to make use of it.\\n\\nSection 467\\n\\n\\n\\n1187']\n"
          ]
        }
      ],
      "source": [
        "paragraphs = articles2\n",
        "input_sentence = \"abandon their born or unborn child\"\n",
        "similar_paragraphs = find_similar_paragraphs(paragraphs, input_sentence, max_tokens=5)\n",
        "print(similar_paragraphs)\n"
      ]
    },
    {
      "cell_type": "code",
      "execution_count": null,
      "metadata": {
        "id": "K8pbWaoZE1xE"
      },
      "outputs": [],
      "source": []
    }
  ],
  "metadata": {
    "colab": {
      "provenance": []
    },
    "kernelspec": {
      "display_name": "Python 3",
      "name": "python3"
    },
    "language_info": {
      "name": "python"
    }
  },
  "nbformat": 4,
  "nbformat_minor": 0
}
